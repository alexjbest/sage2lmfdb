{
 "cells": [
  {
   "cell_type": "code",
   "execution_count": 1,
   "id": "d51e5af3",
   "metadata": {},
   "outputs": [],
   "source": [
    "%load_ext autoreload\n",
    "%autoreload 2\n",
    "# These names will change\n",
    "from sage.all import *\n",
    "import LMFDB2sage.elliptic_curves as lmfdb_ecurve"
   ]
  },
  {
   "cell_type": "code",
   "execution_count": 87,
   "id": "607f9bf8",
   "metadata": {
    "code_folding": [
     31
    ]
   },
   "outputs": [],
   "source": [
    "import sys\n",
    "import json\n",
    "import LMFDB2sage.api_routines as api_routines\n",
    "import LMFDB2sage.lmfdb_api as lmfdb_api\n",
    "\n",
    "from LMFDB2sage.ell_lmfdb import EllipticCurve_rational_field_lmfdb\n",
    "\n",
    "URL_API = lmfdb_api.URL_BASE + 'api/'\n",
    "FORMAT_URL = '/?_format=json&'\n",
    "\n",
    "#sage-name, lmfdb-name, lmfdb-data-type \n",
    "Translation = [['label', 'lmfdb_label', 'string'],\n",
    "               ['degree', 'degree', 'int'],\n",
    "               ['conductor', 'conductor', 'int'],\n",
    "               ['torsion_order', 'torsion', 'int'],\n",
    "               ['rank', 'rank', 'int'],\n",
    "               ['regulator', 'regulator', 'float'],\n",
    "              ]\n",
    "Not_implemented = []\n",
    "def _construct_search(trans, **kwargs):\n",
    "    routine = api_routines.api_selector(_lmfdb_type(trans))\n",
    "    return _lmfdb_name(trans) + routine(kwargs[_sage_name(trans)])\n",
    "def mysearch(table_name='ec_curvedata',**kwargs):\n",
    "    assert table_name in  [\"artin_field_data\", \"artin_old2new_labels\", \"artin_reps\", \"av_fq_endalg_data\", \"av_fq_endalg_factors\", \"av_fq_isog\", \"belyi_galmap_portraits\", \"belyi_galmap_portraits_old_labels\", \"belyi_galmaps_backup\", \"belyi_galmaps_fixed\", \"belyi_galmaps_more\", \"belyi_galmaps_old_labels\", \"belyi_galmaps_prim\", \"belyi_passports\", \"belyi_passports_fixed\", \"belyi_passports_more\", \"belyi_passports_old_labels\", \"bmf_dims\", \"bmf_forms\", \"bmf_test\", \"char_dir_orbits\", \"char_dir_values\", \"char_orbits\", \"cluster_pictures\", \"ec_classdata\", \"ec_curvedata\", \"ec_galrep\", \"ec_iqf_labels\", \"ec_iwasawa\", \"ec_localdata\", \"ec_mwbsd\", \"ec_nfcurves\", \"ec_nfcurves_test\", \"ec_padic\", \"ec_sympow\", \"ec_torsion_growth\", \"fq_fields\", \"g2c_curves\", \"g2c_endomorphisms\", \"g2c_galrep\", \"g2c_nonmaximal_test\", \"g2c_plots\", \"g2c_ratpts\", \"g2c_tamagawa\", \"gps_char\", \"gps_crep\", \"gps_families\", \"gps_gl2zhat\", \"gps_gmodules\", \"gps_groups\", \"gps_groups_cc\", \"gps_groups_test\", \"gps_gsp4zhat\", \"gps_images\", \"gps_qchar\", \"gps_qrep\", \"gps_small\", \"gps_smallhash\", \"gps_special_names\", \"gps_st\", \"gps_st0\", \"gps_subgroups\", \"gps_subgroups_test\", \"gps_transitive\", \"gps_zrep\", \"halfmf_forms\", \"hecke_algebras\", \"hecke_ladic\", \"hecke_orbits\", \"hgcwa_complete\", \"hgcwa_genvectors\", \"hgcwa_passports\", \"hgcwa_per_genus_stats\", \"hgcwa_per_group_stats\", \"hgcwa_unique_groups\", \"hgm_euler_survey\", \"hgm_families\", \"hgm_monodromy\", \"hgm_motives\", \"hmf_fields\", \"hmf_forms\", \"hmf_forms_temp\", \"hmf_hecke\", \"inv_dbs\", \"inv_fields_auto\", \"inv_fields_human\", \"inv_ops\", \"inv_rollback\", \"inv_tables\", \"lat_lattices\", \"lf_fields\", \"lf_galois\", \"lf_tori\", \"lfunc_data\", \"lfunc_instances\", \"lfunc_lfunctions\", \"lfunc_rs_knowls\", \"lfunc_search\", \"maass_newforms\", \"maass_portraits\", \"mf_boxes\", \"mf_gamma1\", \"mf_gamma1_portraits\", \"mf_gamma1_subspaces\", \"mf_hecke_cc\", \"mf_hecke_charpolys\", \"mf_hecke_charpolys_again\", \"mf_hecke_lpolys\", \"mf_hecke_newspace_traces\", \"mf_hecke_nf\", \"mf_hecke_traces\", \"mf_newform_portraits\", \"mf_newform_portraits_test\", \"mf_newforms\", \"mf_newspace_portraits\", \"mf_newspaces\", \"mf_subspaces\", \"mf_twists_cc\", \"mf_twists_nf\", \"modlgal_reps\", \"modlmf_forms\", \"nf_fields\", \"nf_fields_test\", \"pg_tuples\", \"smf_dims\", \"smf_ev\", \"smf_families\", \"smf_fc\", \"smf_samples\", \"test_rewrite\", \"test_table\", \"test_xyz\", \"weil_basechange\"]\n",
    "    searches = []\n",
    "    for item in kwargs:\n",
    "        searches.append(item + \"=\" + kwargs[item])\n",
    "        print(item)\n",
    "    fields = lmfdb_api._get_fields_from_api_page(URL_API + table_name + FORMAT_URL, searches, [],\n",
    "                        dict, **kwargs)\n",
    "    if not fields:\n",
    "        return []\n",
    "    return fields\n",
    "def search(table_name='ec_curvedata',**kwargs):\n",
    "    assert table_name in  [\"artin_field_data\", \"artin_old2new_labels\", \"artin_reps\", \"av_fq_endalg_data\", \"av_fq_endalg_factors\", \"av_fq_isog\", \"belyi_galmap_portraits\", \"belyi_galmap_portraits_old_labels\", \"belyi_galmaps_backup\", \"belyi_galmaps_fixed\", \"belyi_galmaps_more\", \"belyi_galmaps_old_labels\", \"belyi_galmaps_prim\", \"belyi_passports\", \"belyi_passports_fixed\", \"belyi_passports_more\", \"belyi_passports_old_labels\", \"bmf_dims\", \"bmf_forms\", \"bmf_test\", \"char_dir_orbits\", \"char_dir_values\", \"char_orbits\", \"cluster_pictures\", \"ec_classdata\", \"ec_curvedata\", \"ec_galrep\", \"ec_iqf_labels\", \"ec_iwasawa\", \"ec_localdata\", \"ec_mwbsd\", \"ec_nfcurves\", \"ec_nfcurves_test\", \"ec_padic\", \"ec_sympow\", \"ec_torsion_growth\", \"fq_fields\", \"g2c_curves\", \"g2c_endomorphisms\", \"g2c_galrep\", \"g2c_nonmaximal_test\", \"g2c_plots\", \"g2c_ratpts\", \"g2c_tamagawa\", \"gps_char\", \"gps_crep\", \"gps_families\", \"gps_gl2zhat\", \"gps_gmodules\", \"gps_groups\", \"gps_groups_cc\", \"gps_groups_test\", \"gps_gsp4zhat\", \"gps_images\", \"gps_qchar\", \"gps_qrep\", \"gps_small\", \"gps_smallhash\", \"gps_special_names\", \"gps_st\", \"gps_st0\", \"gps_subgroups\", \"gps_subgroups_test\", \"gps_transitive\", \"gps_zrep\", \"halfmf_forms\", \"hecke_algebras\", \"hecke_ladic\", \"hecke_orbits\", \"hgcwa_complete\", \"hgcwa_genvectors\", \"hgcwa_passports\", \"hgcwa_per_genus_stats\", \"hgcwa_per_group_stats\", \"hgcwa_unique_groups\", \"hgm_euler_survey\", \"hgm_families\", \"hgm_monodromy\", \"hgm_motives\", \"hmf_fields\", \"hmf_forms\", \"hmf_forms_temp\", \"hmf_hecke\", \"inv_dbs\", \"inv_fields_auto\", \"inv_fields_human\", \"inv_ops\", \"inv_rollback\", \"inv_tables\", \"lat_lattices\", \"lf_fields\", \"lf_galois\", \"lf_tori\", \"lfunc_data\", \"lfunc_instances\", \"lfunc_lfunctions\", \"lfunc_rs_knowls\", \"lfunc_search\", \"maass_newforms\", \"maass_portraits\", \"mf_boxes\", \"mf_gamma1\", \"mf_gamma1_portraits\", \"mf_gamma1_subspaces\", \"mf_hecke_cc\", \"mf_hecke_charpolys\", \"mf_hecke_charpolys_again\", \"mf_hecke_lpolys\", \"mf_hecke_newspace_traces\", \"mf_hecke_nf\", \"mf_hecke_traces\", \"mf_newform_portraits\", \"mf_newform_portraits_test\", \"mf_newforms\", \"mf_newspace_portraits\", \"mf_newspaces\", \"mf_subspaces\", \"mf_twists_cc\", \"mf_twists_nf\", \"modlgal_reps\", \"modlmf_forms\", \"nf_fields\", \"nf_fields_test\", \"pg_tuples\", \"smf_dims\", \"smf_ev\", \"smf_families\", \"smf_fc\", \"smf_samples\", \"test_rewrite\", \"test_table\", \"test_xyz\", \"weil_basechange\"]\n",
    "    searches = []\n",
    "    try:\n",
    "        kwargs['label']\n",
    "        kwargs['single_field'] = True\n",
    "    except KeyError:\n",
    "        pass\n",
    "\n",
    "    for item in Not_implemented:\n",
    "        try:\n",
    "            kwargs[item]\n",
    "            raise NotImplementedError(\"This would be a great thing to have, \" +\n",
    "                \"but the LMFDB api does not yet provide this functionality.\")\n",
    "        except KeyError:\n",
    "            pass\n",
    "\n",
    "    for item in Translation:\n",
    "        try:\n",
    "            searches.append(_construct_search(item, **kwargs))\n",
    "            del kwargs[_sage_name(item)]\n",
    "        except KeyError:\n",
    "            pass\n",
    "    for item in kwargs:\n",
    "        searches.append(_construct_search([item,item], **kwargs))\n",
    "        print(item)\n",
    "\n",
    "    try:\n",
    "        sort = searches.append('_sort=' + kwargs['sort'])\n",
    "    except KeyError:\n",
    "        pass\n",
    "\n",
    "    if len(searches) == 0:\n",
    "        print(\"No searches recognized. No data will be returned.\")\n",
    "        return None\n",
    "\n",
    "    dbfields = ['lmfdb_label',\n",
    "                'degree',\n",
    "                'conductor',\n",
    "                'ainvs',\n",
    "                'torsion',\n",
    "                'regulator',\n",
    "                'rank'\n",
    "                ]\n",
    "    fields = lmfdb_api._get_fields_from_api_page(URL_API + table_name + FORMAT_URL, searches, dbfields,\n",
    "                        EllipticCurve_rational_field_lmfdb, **kwargs)\n",
    "    return fields\n",
    "def _lmfdb_type(trans):\n",
    "    return trans[2]\n",
    "\n",
    "def _sage_name(trans):\n",
    "    return trans[0]\n",
    "    \n",
    "def _lmfdb_name(trans):\n",
    "    return trans[1] + '='"
   ]
  },
  {
   "cell_type": "markdown",
   "id": "bbdb44db",
   "metadata": {},
   "source": [
    "Test:"
   ]
  },
  {
   "cell_type": "code",
   "execution_count": 66,
   "id": "6f8056a3",
   "metadata": {},
   "outputs": [
    {
     "name": "stdout",
     "output_type": "stream",
     "text": [
      "https://beta.lmfdb.org/api/g2c_curves/?_format=json&rank=i1&_fields=lmfdb_label,degree,conductor,ainvs,torsion,regulator,rank\n",
      "No fields were found satisfying input criteria.\n"
     ]
    }
   ],
   "source": [
    "search(table_name=\"g2c_curves\",rank=1)"
   ]
  },
  {
   "cell_type": "code",
   "execution_count": 67,
   "id": "c128a3ae",
   "metadata": {},
   "outputs": [
    {
     "ename": "TypeError",
     "evalue": "unsupported operand parent(s) for +: '<class 'str'>' and 'Integer Ring'",
     "output_type": "error",
     "traceback": [
      "\u001b[1;31m---------------------------------------------------------------------------\u001b[0m",
      "\u001b[1;31mTypeError\u001b[0m                                 Traceback (most recent call last)",
      "\u001b[1;32m<ipython-input-67-6bf0ecf74c0e>\u001b[0m in \u001b[0;36m<module>\u001b[1;34m\u001b[0m\n\u001b[1;32m----> 1\u001b[1;33m \u001b[0mmysearch\u001b[0m\u001b[1;33m(\u001b[0m\u001b[0mtable_name\u001b[0m\u001b[1;33m=\u001b[0m\u001b[1;34m'g2c_curves'\u001b[0m\u001b[1;33m,\u001b[0m\u001b[0manalytic_rank\u001b[0m\u001b[1;33m=\u001b[0m\u001b[0mInteger\u001b[0m\u001b[1;33m(\u001b[0m\u001b[1;36m1\u001b[0m\u001b[1;33m)\u001b[0m\u001b[1;33m)\u001b[0m\u001b[1;33m\u001b[0m\u001b[1;33m\u001b[0m\u001b[0m\n\u001b[0m",
      "\u001b[1;32m<ipython-input-65-57e8810b4d58>\u001b[0m in \u001b[0;36mmysearch\u001b[1;34m(table_name, **kwargs)\u001b[0m\n\u001b[0;32m     25\u001b[0m     \u001b[0msearches\u001b[0m \u001b[1;33m=\u001b[0m \u001b[1;33m[\u001b[0m\u001b[1;33m]\u001b[0m\u001b[1;33m\u001b[0m\u001b[1;33m\u001b[0m\u001b[0m\n\u001b[0;32m     26\u001b[0m     \u001b[1;32mfor\u001b[0m \u001b[0mitem\u001b[0m \u001b[1;32min\u001b[0m \u001b[0mkwargs\u001b[0m\u001b[1;33m:\u001b[0m\u001b[1;33m\u001b[0m\u001b[1;33m\u001b[0m\u001b[0m\n\u001b[1;32m---> 27\u001b[1;33m         \u001b[0msearches\u001b[0m\u001b[1;33m.\u001b[0m\u001b[0mappend\u001b[0m\u001b[1;33m(\u001b[0m\u001b[0mitem\u001b[0m \u001b[1;33m+\u001b[0m \u001b[1;34m\"=\"\u001b[0m \u001b[1;33m+\u001b[0m \u001b[0mkwargs\u001b[0m\u001b[1;33m[\u001b[0m\u001b[0mitem\u001b[0m\u001b[1;33m]\u001b[0m\u001b[1;33m)\u001b[0m\u001b[1;33m\u001b[0m\u001b[1;33m\u001b[0m\u001b[0m\n\u001b[0m\u001b[0;32m     28\u001b[0m         \u001b[0mprint\u001b[0m\u001b[1;33m(\u001b[0m\u001b[0mitem\u001b[0m\u001b[1;33m)\u001b[0m\u001b[1;33m\u001b[0m\u001b[1;33m\u001b[0m\u001b[0m\n\u001b[0;32m     29\u001b[0m     fields = lmfdb_api._get_fields_from_api_page(URL_API + table_name + FORMAT_URL, searches, [],\n",
      "\u001b[1;32m/usr/local/Caskroom/miniconda/base/envs/sage/lib/python3.8/site-packages/sage/rings/integer.pyx\u001b[0m in \u001b[0;36msage.rings.integer.Integer.__add__ (build/cythonized/sage/rings/integer.c:12446)\u001b[1;34m()\u001b[0m\n\u001b[0;32m   1785\u001b[0m             \u001b[1;32mreturn\u001b[0m \u001b[0my\u001b[0m\u001b[1;33m\u001b[0m\u001b[1;33m\u001b[0m\u001b[0m\n\u001b[0;32m   1786\u001b[0m \u001b[1;33m\u001b[0m\u001b[0m\n\u001b[1;32m-> 1787\u001b[1;33m         \u001b[1;32mreturn\u001b[0m \u001b[0mcoercion_model\u001b[0m\u001b[1;33m.\u001b[0m\u001b[0mbin_op\u001b[0m\u001b[1;33m(\u001b[0m\u001b[0mleft\u001b[0m\u001b[1;33m,\u001b[0m \u001b[0mright\u001b[0m\u001b[1;33m,\u001b[0m \u001b[0moperator\u001b[0m\u001b[1;33m.\u001b[0m\u001b[0madd\u001b[0m\u001b[1;33m)\u001b[0m\u001b[1;33m\u001b[0m\u001b[1;33m\u001b[0m\u001b[0m\n\u001b[0m\u001b[0;32m   1788\u001b[0m \u001b[1;33m\u001b[0m\u001b[0m\n\u001b[0;32m   1789\u001b[0m     \u001b[0mcpdef\u001b[0m \u001b[0m_add_\u001b[0m\u001b[1;33m(\u001b[0m\u001b[0mself\u001b[0m\u001b[1;33m,\u001b[0m \u001b[0mright\u001b[0m\u001b[1;33m)\u001b[0m\u001b[1;33m:\u001b[0m\u001b[1;33m\u001b[0m\u001b[1;33m\u001b[0m\u001b[0m\n",
      "\u001b[1;32m/usr/local/Caskroom/miniconda/base/envs/sage/lib/python3.8/site-packages/sage/structure/coerce.pyx\u001b[0m in \u001b[0;36msage.structure.coerce.CoercionModel.bin_op (build/cythonized/sage/structure/coerce.c:11303)\u001b[1;34m()\u001b[0m\n\u001b[0;32m   1246\u001b[0m         \u001b[1;31m# We should really include the underlying error.\u001b[0m\u001b[1;33m\u001b[0m\u001b[1;33m\u001b[0m\u001b[1;33m\u001b[0m\u001b[0m\n\u001b[0;32m   1247\u001b[0m         \u001b[1;31m# This causes so much headache.\u001b[0m\u001b[1;33m\u001b[0m\u001b[1;33m\u001b[0m\u001b[1;33m\u001b[0m\u001b[0m\n\u001b[1;32m-> 1248\u001b[1;33m         \u001b[1;32mraise\u001b[0m \u001b[0mbin_op_exception\u001b[0m\u001b[1;33m(\u001b[0m\u001b[0mop\u001b[0m\u001b[1;33m,\u001b[0m \u001b[0mx\u001b[0m\u001b[1;33m,\u001b[0m \u001b[0my\u001b[0m\u001b[1;33m)\u001b[0m\u001b[1;33m\u001b[0m\u001b[1;33m\u001b[0m\u001b[0m\n\u001b[0m\u001b[0;32m   1249\u001b[0m \u001b[1;33m\u001b[0m\u001b[0m\n\u001b[0;32m   1250\u001b[0m     \u001b[0mcpdef\u001b[0m \u001b[0mcanonical_coercion\u001b[0m\u001b[1;33m(\u001b[0m\u001b[0mself\u001b[0m\u001b[1;33m,\u001b[0m \u001b[0mx\u001b[0m\u001b[1;33m,\u001b[0m \u001b[0my\u001b[0m\u001b[1;33m)\u001b[0m\u001b[1;33m:\u001b[0m\u001b[1;33m\u001b[0m\u001b[1;33m\u001b[0m\u001b[0m\n",
      "\u001b[1;31mTypeError\u001b[0m: unsupported operand parent(s) for +: '<class 'str'>' and 'Integer Ring'"
     ]
    }
   ],
   "source": [
    "\n",
    "mysearch(table_name='g2c_curves',analytic_rank=1)"
   ]
  },
  {
   "cell_type": "code",
   "execution_count": 217,
   "id": "b29e9a50",
   "metadata": {},
   "outputs": [],
   "source": [
    "def find_factors(label):\n",
    "    \"\"\"\n",
    "    Finds building blocks attached to modular forms, assuming they are associated to\n",
    "    g2c in the lmfdb.\n",
    "    This works via lookup in the lmfdb for the associated g2c, decomposes the g2c and\n",
    "    then descends to a smaller field if needed.\n",
    "    \"\"\"\n",
    "    assert len(label.split('.')) == 4\n",
    "    [f] = mysearch(table_name='mf_newforms', label=label)\n",
    "    print(f['label'])\n",
    "    #print(f)\n",
    "    assert f['dim'] == 2\n",
    "    possible_friends = []\n",
    "    for r in f['related_objects']:\n",
    "        r = r.split('/')\n",
    "        if r[0] == \"Genus2Curve\":\n",
    "            print(r)\n",
    "            possible_friends.append({\"class\":r[2] + \".\" + r[3]})\n",
    "    possible_friends.append({\"Lhash\":str(f['trace_hash'])})\n",
    "    Cs = []\n",
    "    for p in possible_friends:\n",
    "        for C in mysearch(table_name='g2c_curves', **p):\n",
    "            if C not in Cs:\n",
    "                Cs.append(C)\n",
    "    print(len(Cs),\"g2c curve(s) found\")\n",
    "    for C in Cs:\n",
    "        [end] = mysearch(table_name=\"g2c_endomorphisms\", label=C['label'])\n",
    "        R = PolynomialRing(QQ,'x')\n",
    "        pol = R(end['spl_fod_coeffs'])\n",
    "        K = NumberField(pol,'a')\n",
    "        a = K.gen()\n",
    "        assert len(end['spl_facs_coeffs']) == 1\n",
    "        if 'spl_facs_labels' in end:\n",
    "            [E] = (mysearch(table_name='ec_nfcurves',label=end['spl_facs_labels'][0]))\n",
    "            E = EllipticCurve([K([QQ(b) for b in ai.split(',')]) for ai in E['ainvs'].split(';')])\n",
    "            #\"3.3.81.1-8.1-a1\"\n",
    "        else:\n",
    "            assert end['spl_fod_gen'] == [0, 1] + (ZZ(end['spl_fod_label'].split('.')[0]) - 2) * [0]\n",
    "            g_4 = K(end['spl_facs_coeffs'][0][0])\n",
    "            g_6 = K(end['spl_facs_coeffs'][0][1])\n",
    "            print(g_4,g_6)\n",
    "            E = EllipticCurve([- g_4 / 48 ,- g_6 / 864])\n",
    "            print(E)\n",
    "        \n",
    "        (L,gen,ma) = K.subfield_from_elements([E.j_invariant()])\n",
    "        print(L,gen,ma)\n",
    "        [newfield] = mysearch(table_name='nf_fields', degree=str(L.degree()), disc_abs=str(L.discriminant().abs()), disc_sign=str(sign(L.discriminant())))\n",
    "        print(newfield)\n",
    "        print(E)\n",
    "        if newfield['label'] == '1.1.1.1':\n",
    "            potential_es = mysearch(table_name='ec_curvedata',jinv= '{' + str(\",\".join([str(gen[0].numerator()),str(gen[0].denominator())])) + '}')\n",
    "            for pe in potential_es:\n",
    "                pe = EllipticCurve([QQ(b) for b in pe['ainvs']])\n",
    "                print(pe.change_ring(K))\n",
    "                if (pe.change_ring(K).is_isomorphic(E)):\n",
    "                    return pe\n",
    "        else:\n",
    "            potential_es = (mysearch(table_name='ec_nfcurves',field_label=newfield['label'],jinv=\",\".join(str(g) for g in list(gen[0]))))\n",
    "            for pe in potential_es:\n",
    "                pe = EllipticCurve([L([QQ(b) for b in ai.split(',')]) for ai in pe['ainvs'].split(';')])\n",
    "                print(pe.change_ring(K))\n",
    "                if (pe.change_ring(K).is_isomorphic(E)):\n",
    "                    return pe\n",
    "                #\": \"1,0;1,0;0,1;2,-29;-106,-52\",\n",
    "\n",
    "        assert False\n",
    "        return "
   ]
  },
  {
   "cell_type": "code",
   "execution_count": 218,
   "id": "25e63c4f",
   "metadata": {},
   "outputs": [
    {
     "name": "stdout",
     "output_type": "stream",
     "text": [
      "label\n",
      "https://beta.lmfdb.org/api/mf_newforms/?_format=json&label=18.2.c.a&_fields=\n",
      "18.2.c.a\n",
      "['Genus2Curve', 'Q', '324', 'a']\n",
      "class\n",
      "https://beta.lmfdb.org/api/g2c_curves/?_format=json&class=324.a&_fields=\n",
      "Lhash\n",
      "https://beta.lmfdb.org/api/g2c_curves/?_format=json&Lhash=1709198346480436726&_fields=\n",
      "1 g2c curve(s) found\n",
      "label\n",
      "https://beta.lmfdb.org/api/g2c_endomorphisms/?_format=json&label=324.a.648.1&_fields=\n",
      "label\n",
      "https://beta.lmfdb.org/api/ec_nfcurves/?_format=json&label=3.3.81.1-8.1-a1&_fields=\n",
      "Rational Field [-140625/8] Coercion map:\n",
      "  From: Rational Field\n",
      "  To:   Number Field in a with defining polynomial x^3 - 3*x - 1\n",
      "degree\n",
      "disc_abs\n",
      "disc_sign\n",
      "https://beta.lmfdb.org/api/nf_fields/?_format=json&degree=1&disc_abs=1&disc_sign=1&_fields=\n",
      "{'id': 0, 'label': '1.1.1.1', 'degree': 1, 'r2': 0, 'cm': False, 'iso_number': 1, 'disc_abs': 1, 'disc_sign': 1, 'disc_rad': 1, 'galt': 1, 'class_number': 1, 'class_group': [], 'used_grh': False, 'rd': 1.0, 'regulator': 1, 'ramps': [], 'coeffs': [0, 1], 'num_ram': 0, 'conductor': 1, 'subfields': [], 'subfield_mults': [], 'torsion_order': 2, 'galois_label': '1T1', 'is_galois': True, 'gal_is_abelian': True, 'gal_is_cyclic': True, 'gal_is_solvable': True, 'zk': ['1'], 'units': [], 'res': {}, 'frobs': [[2, [[1, 1]]], [3, [[1, 1]]], [5, [[1, 1]]], [7, [[1, 1]]], [11, [[1, 1]]], [13, [[1, 1]]], [17, [[1, 1]]], [19, [[1, 1]]], [23, [[1, 1]]], [29, [[1, 1]]], [31, [[1, 1]]], [37, [[1, 1]]], [41, [[1, 1]]], [43, [[1, 1]]], [47, [[1, 1]]], [53, [[1, 1]]], [59, [[1, 1]]]], 'torsion_gen': '\\\\(-1\\\\)', 'dirichlet_group': [1]}\n",
      "Elliptic Curve defined by y^2 + (a^2+a-1)*x*y + (a^2-2)*y = x^3 + (-a^2+a+2)*x^2 + (13*a^2+2*a-44)*x + (-22*a^2-3*a+88) over Number Field in a with defining polynomial x^3 - 3*x - 1\n",
      "jinv\n",
      "https://beta.lmfdb.org/api/ec_curvedata/?_format=json&jinv={-140625,8}&_fields=\n",
      "Elliptic Curve defined by y^2 + x*y = x^3 + (-1)*x^2 + (-42)*x + (-100) over Number Field in a with defining polynomial x^3 - 3*x - 1\n",
      "Elliptic Curve defined by y^2 + x*y + y = x^3 + (-1)*x^2 + (-5)*x + 5 over Number Field in a with defining polynomial x^3 - 3*x - 1\n"
     ]
    },
    {
     "data": {
      "text/plain": [
       "Elliptic Curve defined by y^2 + x*y + y = x^3 - x^2 - 5*x + 5 over Rational Field"
      ]
     },
     "execution_count": 218,
     "metadata": {},
     "output_type": "execute_result"
    }
   ],
   "source": [
    "find_factors('18.2.c.a')"
   ]
  },
  {
   "cell_type": "code",
   "execution_count": 194,
   "id": "56940b32",
   "metadata": {},
   "outputs": [
    {
     "name": "stdout",
     "output_type": "stream",
     "text": [
      "label\n",
      "https://beta.lmfdb.org/api/mf_newforms/?_format=json&label=13.2.e.a&_fields=\n",
      "13.2.e.a\n",
      "['Genus2Curve', 'Q', '169', 'a']\n",
      "class\n",
      "https://beta.lmfdb.org/api/g2c_curves/?_format=json&class=169.a&_fields=\n",
      "Lhash\n",
      "https://beta.lmfdb.org/api/g2c_curves/?_format=json&Lhash=1456780685049277288&_fields=\n",
      "1 g2c curve(s) found\n",
      "label\n",
      "https://beta.lmfdb.org/api/g2c_endomorphisms/?_format=json&label=169.a.169.1&_fields=\n",
      "3630*a^5 + 1720*a^4 - 15597*a^3 - 8353*a^2 + 9457*a + 2644 316316*a^5 + 160160*a^4 - 1342341*a^3 - 759759*a^2 + 759759*a + 207207\n",
      "Elliptic Curve defined by y^2 = x^3 + (-605/8*a^5-215/6*a^4+5199/16*a^3+8353/48*a^2-9457/48*a-661/12)*x + (-79079/216*a^5-5005/27*a^4+149149/96*a^3+253253/288*a^2-253253/288*a-23023/96) over Number Field in a with defining polynomial x^6 - x^5 - 5*x^4 + 4*x^3 + 6*x^2 - 3*x - 1\n",
      "Number Field in a0 with defining polynomial x^2 - x - 3 with a0 = -a^4 + a^3 + 4*a^2 - 2*a - 2 [17787*a0 - 39775] Ring morphism:\n",
      "  From: Number Field in a0 with defining polynomial x^2 - x - 3 with a0 = -a^4 + a^3 + 4*a^2 - 2*a - 2\n",
      "  To:   Number Field in a with defining polynomial x^6 - x^5 - 5*x^4 + 4*x^3 + 6*x^2 - 3*x - 1\n",
      "  Defn: a0 |--> -a^4 + a^3 + 4*a^2 - 2*a - 2\n",
      "degree\n",
      "disc_abs\n",
      "disc_sign\n",
      "https://beta.lmfdb.org/api/nf_fields/?_format=json&degree=2&disc_abs=13&disc_sign=1&_fields=\n",
      "{'id': 9, 'label': '2.2.13.1', 'degree': 2, 'r2': 0, 'cm': False, 'iso_number': 1, 'disc_abs': 13, 'disc_sign': 1, 'disc_rad': 13, 'galt': 1, 'class_number': 1, 'class_group': [], 'used_grh': False, 'rd': 3.60555127546, 'regulator': {'__RealLiteral__': 0, 'data': '1.19476321729', 'prec': 44}, 'ramps': [13], 'coeffs': [-3, -1, 1], 'num_ram': 1, 'conductor': 13, 'subfields': [], 'subfield_mults': [], 'torsion_order': 2, 'galois_label': '2T1', 'is_galois': True, 'gal_is_abelian': True, 'gal_is_cyclic': True, 'gal_is_solvable': True, 'local_algs': ['13.2.1.1'], 'zk': ['1', 'a'], 'units': ['\\\\( a + 1 \\\\)'], 'res': {}, 'frobs': [[2, [[2, 1]]], [3, [[1, 2]]], [5, [[2, 1]]], [7, [[2, 1]]], [11, [[2, 1]]], [13, [0]], [17, [[1, 2]]], [19, [[2, 1]]], [23, [[1, 2]]], [29, [[1, 2]]], [31, [[2, 1]]], [37, [[2, 1]]], [41, [[2, 1]]], [43, [[1, 2]]], [47, [[2, 1]]], [53, [[1, 2]]], [59, [[2, 1]]]], 'torsion_gen': '\\\\( -1 \\\\)', 'dirichlet_group': [1, 12]}\n",
      "Elliptic Curve defined by y^2 = x^3 + (-605/8*a^5-215/6*a^4+5199/16*a^3+8353/48*a^2-9457/48*a-661/12)*x + (-79079/216*a^5-5005/27*a^4+149149/96*a^3+253253/288*a^2-253253/288*a-23023/96) over Number Field in a with defining polynomial x^6 - x^5 - 5*x^4 + 4*x^3 + 6*x^2 - 3*x - 1\n",
      "field_label\n",
      "jinv\n",
      "https://beta.lmfdb.org/api/ec_nfcurves/?_format=json&field_label=2.2.13.1&jinv=-39775,17787&_fields=\n",
      "Elliptic Curve defined by y^2 + (-a^4+a^3+4*a^2-2*a-1)*x*y + (-a^4+a^3+4*a^2-2*a-1)*y = x^3 + x^2 + (-7*a^4+7*a^3+28*a^2-14*a-16)*x + (-6*a^4+6*a^3+24*a^2-12*a+7) over Number Field in a with defining polynomial x^6 - x^5 - 5*x^4 + 4*x^3 + 6*x^2 - 3*x - 1\n"
     ]
    },
    {
     "data": {
      "text/plain": [
       "Elliptic Curve defined by y^2 + (a0+1)*x*y + (a0+1)*y = x^3 + x^2 + (7*a0-2)*x + (6*a0+19) over Number Field in a0 with defining polynomial x^2 - x - 3 with a0 = -a^4 + a^3 + 4*a^2 - 2*a - 2"
      ]
     },
     "execution_count": 194,
     "metadata": {},
     "output_type": "execute_result"
    }
   ],
   "source": [
    "find_factors('13.2.e.a')"
   ]
  },
  {
   "cell_type": "code",
   "execution_count": 191,
   "id": "11896d1b",
   "metadata": {},
   "outputs": [
    {
     "data": {
      "text/plain": [
       "True"
      ]
     },
     "execution_count": 191,
     "metadata": {},
     "output_type": "execute_result"
    }
   ],
   "source": [
    "'a' in {'a':2}"
   ]
  },
  {
   "cell_type": "code",
   "execution_count": null,
   "id": "91d93c6d",
   "metadata": {},
   "outputs": [],
   "source": []
  }
 ],
 "metadata": {
  "kernelspec": {
   "display_name": "SageMath 9.2",
   "language": "sage",
   "name": "sagemath"
  },
  "language_info": {
   "codemirror_mode": {
    "name": "ipython",
    "version": 3
   },
   "file_extension": ".py",
   "mimetype": "text/x-python",
   "name": "python",
   "nbconvert_exporter": "python",
   "pygments_lexer": "ipython3",
   "version": "3.8.10"
  },
  "varInspector": {
   "cols": {
    "lenName": 16,
    "lenType": 16,
    "lenVar": 40
   },
   "kernels_config": {
    "python": {
     "delete_cmd_postfix": "",
     "delete_cmd_prefix": "del ",
     "library": "var_list.py",
     "varRefreshCmd": "print(var_dic_list())"
    },
    "r": {
     "delete_cmd_postfix": ") ",
     "delete_cmd_prefix": "rm(",
     "library": "var_list.r",
     "varRefreshCmd": "cat(var_dic_list()) "
    }
   },
   "types_to_exclude": [
    "module",
    "function",
    "builtin_function_or_method",
    "instance",
    "_Feature"
   ],
   "window_display": false
  }
 },
 "nbformat": 4,
 "nbformat_minor": 5
}
