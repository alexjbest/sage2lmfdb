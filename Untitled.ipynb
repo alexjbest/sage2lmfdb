{
 "cells": [
  {
   "cell_type": "code",
   "execution_count": 18,
   "id": "90838764",
   "metadata": {},
   "outputs": [],
   "source": [
    "import sys\n",
    "import json\n",
    "import LMFDB2sage.api_routines as api_routines\n",
    "import LMFDB2sage.lmfdb_api as lmfdb_api\n",
    "\n",
    "from LMFDB2sage.ell_lmfdb import EllipticCurve_rational_field_lmfdb\n",
    "from LMFDB2sage.elliptic_curves import _construct_search, _sage_name\n",
    "\n",
    "  \n",
    "URL_API = lmfdb_api.URL_BASE + 'api/'\n",
    "\n",
    "JSON_FORMAT = '/?_format=json&'\n",
    "  \n",
    "#sage-name, lmfdb-name, lmfdb-data-type\n",
    "Translation = [['label', 'lmfdb_label', 'string'],\n",
    "                 ['degree', 'degree', 'int'],\n",
    "                 ['conductor', 'conductor', 'int'],  \n",
    "                 ['torsion_order', 'torsion', 'int'],\n",
    "                 ['rank', 'rank', 'int'],\n",
    "                 ['level', 'level', 'int'],\n",
    "                 ['regulator', 'regulator', 'float'],\n",
    "                ]\n",
    "  \n",
    "Not_implemented = ['min_conductor', 'max_conductor']\n",
    "  \n",
    "def search(table=\"ec_curvedata\",**kwargs):\n",
    "    searches = []\n",
    "    try:\n",
    "        kwargs['label']\n",
    "        kwargs['single_field'] = True\n",
    "    except KeyError:\n",
    "        pass\n",
    "     \n",
    "    for item in Not_implemented:\n",
    "        try:\n",
    "            kwargs[item]\n",
    "            raise NotImplementedError(\"This would be a great thing to have, \" + \\\n",
    "                \"but the LMFDB api does not yet provide this functionality.\")\n",
    "        except KeyError:\n",
    "            pass\n",
    "    \n",
    "    for item in Translation:\n",
    "        try:\n",
    "            searches.append(_construct_search(item, **kwargs))\n",
    "            del kwargs[_sage_name(item)]\n",
    "        except KeyError:\n",
    "            pass\n",
    "          \n",
    "    try:\n",
    "        sort = searches.append('_sort=' + kwargs['sort'])\n",
    "    except KeyError:\n",
    "        pass\n",
    "                              \n",
    "    if len(searches) == 0:\n",
    "        print(\"No searches recognized. No data will be returned.\")\n",
    "        return None\n",
    "    \n",
    "    dbfields = ['lmfdb_label',\n",
    "                  'degree',   \n",
    "                  'conductor',\n",
    "                  'ainvs',  \n",
    "                  'torsion',  \n",
    "                  'regulator',\n",
    "                  'rank'\n",
    "               ]\n",
    "    fields = lmfdb_api._get_fields_from_api_page(URL_API + table + JSON_FORMAT, searches, dbfields,\n",
    "                        EllipticCurve_rational_field_lmfdb, **kwargs)\n",
    "    return fields"
   ]
  },
  {
   "cell_type": "code",
   "execution_count": 19,
   "id": "998d9372",
   "metadata": {},
   "outputs": [
    {
     "name": "stdout",
     "output_type": "stream",
     "text": [
      "https://beta.lmfdb.org/api/mf_newforms/?_format=json&level=i11&_fields=lmfdb_label,degree,conductor,ainvs,torsion,regulator,rank\n",
      "No fields were found satisfying input criteria.\n"
     ]
    }
   ],
   "source": [
    "search(level = 11,table='mf_newforms')"
   ]
  },
  {
   "cell_type": "code",
   "execution_count": null,
   "id": "2899d618",
   "metadata": {},
   "outputs": [],
   "source": []
  }
 ],
 "metadata": {
  "kernelspec": {
   "display_name": "SageMath 9.4",
   "language": "sage",
   "name": "sagemath"
  },
  "language_info": {
   "codemirror_mode": {
    "name": "ipython",
    "version": 3
   },
   "file_extension": ".py",
   "mimetype": "text/x-python",
   "name": "python",
   "nbconvert_exporter": "python",
   "pygments_lexer": "ipython3",
   "version": "3.9.7"
  }
 },
 "nbformat": 4,
 "nbformat_minor": 5
}
